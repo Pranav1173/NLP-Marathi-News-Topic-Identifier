{
 "cells": [
  {
   "cell_type": "code",
   "execution_count": 1,
   "id": "f5393cd1",
   "metadata": {},
   "outputs": [],
   "source": [
    "import pandas as pd"
   ]
  },
  {
   "cell_type": "code",
   "execution_count": 2,
   "id": "ee8aad26",
   "metadata": {},
   "outputs": [],
   "source": [
    "data = pd.read_csv('Marathi_LDC_Train.csv')"
   ]
  },
  {
   "cell_type": "code",
   "execution_count": 3,
   "id": "113e3253",
   "metadata": {},
   "outputs": [
    {
     "data": {
      "text/html": [
       "<div>\n",
       "<style scoped>\n",
       "    .dataframe tbody tr th:only-of-type {\n",
       "        vertical-align: middle;\n",
       "    }\n",
       "\n",
       "    .dataframe tbody tr th {\n",
       "        vertical-align: top;\n",
       "    }\n",
       "\n",
       "    .dataframe thead th {\n",
       "        text-align: right;\n",
       "    }\n",
       "</style>\n",
       "<table border=\"1\" class=\"dataframe\">\n",
       "  <thead>\n",
       "    <tr style=\"text-align: right;\">\n",
       "      <th></th>\n",
       "      <th>Text</th>\n",
       "      <th>Label</th>\n",
       "    </tr>\n",
       "  </thead>\n",
       "  <tbody>\n",
       "    <tr>\n",
       "      <th>0</th>\n",
       "      <td>पणजी : वाहन अपघातामुळे एखाद्या व्यक्तीचा बळी ग...</td>\n",
       "      <td>Auto</td>\n",
       "    </tr>\n",
       "    <tr>\n",
       "      <th>1</th>\n",
       "      <td>नवी दिल्ली : साधारण शंभर वर्षांपूर्वी बाजारात ...</td>\n",
       "      <td>Auto</td>\n",
       "    </tr>\n",
       "    <tr>\n",
       "      <th>2</th>\n",
       "      <td>नवी दिल्ली : लक्झरी कार निर्माता लेक्सस (Lexus...</td>\n",
       "      <td>Auto</td>\n",
       "    </tr>\n",
       "    <tr>\n",
       "      <th>3</th>\n",
       "      <td>निस्सान या जपानच्या वाहन निर्माता कंपनीने भारत...</td>\n",
       "      <td>Auto</td>\n",
       "    </tr>\n",
       "    <tr>\n",
       "      <th>4</th>\n",
       "      <td>सुरत : इच्छा तिथे मार्ग!हे सुरतच्या एका 60 वर्...</td>\n",
       "      <td>Auto</td>\n",
       "    </tr>\n",
       "    <tr>\n",
       "      <th>5</th>\n",
       "      <td>शहरात दररोज काचे भरपूर रनिंग होणार आहे, वाहतूक...</td>\n",
       "      <td>Auto</td>\n",
       "    </tr>\n",
       "    <tr>\n",
       "      <th>6</th>\n",
       "      <td>Yamaha Motor India (यामाहा मोटर इंडिया) ने गुर...</td>\n",
       "      <td>Auto</td>\n",
       "    </tr>\n",
       "    <tr>\n",
       "      <th>7</th>\n",
       "      <td>कर्मचाऱ्यांना त्यांच्या कष्टाचे चीज म्हणून एखा...</td>\n",
       "      <td>Auto</td>\n",
       "    </tr>\n",
       "    <tr>\n",
       "      <th>8</th>\n",
       "      <td>नवी दिल्ली-देशातील प्रसिद्ध उद्योगपती आनंद महि...</td>\n",
       "      <td>Auto</td>\n",
       "    </tr>\n",
       "    <tr>\n",
       "      <th>9</th>\n",
       "      <td>मारुती सुझुकी या कंपनीनं सप्टेंबर २०२० मध्ये आ...</td>\n",
       "      <td>Auto</td>\n",
       "    </tr>\n",
       "  </tbody>\n",
       "</table>\n",
       "</div>"
      ],
      "text/plain": [
       "                                                Text Label\n",
       "0  पणजी : वाहन अपघातामुळे एखाद्या व्यक्तीचा बळी ग...  Auto\n",
       "1  नवी दिल्ली : साधारण शंभर वर्षांपूर्वी बाजारात ...  Auto\n",
       "2  नवी दिल्ली : लक्झरी कार निर्माता लेक्सस (Lexus...  Auto\n",
       "3  निस्सान या जपानच्या वाहन निर्माता कंपनीने भारत...  Auto\n",
       "4  सुरत : इच्छा तिथे मार्ग!हे सुरतच्या एका 60 वर्...  Auto\n",
       "5  शहरात दररोज काचे भरपूर रनिंग होणार आहे, वाहतूक...  Auto\n",
       "6  Yamaha Motor India (यामाहा मोटर इंडिया) ने गुर...  Auto\n",
       "7  कर्मचाऱ्यांना त्यांच्या कष्टाचे चीज म्हणून एखा...  Auto\n",
       "8  नवी दिल्ली-देशातील प्रसिद्ध उद्योगपती आनंद महि...  Auto\n",
       "9  मारुती सुझुकी या कंपनीनं सप्टेंबर २०२० मध्ये आ...  Auto"
      ]
     },
     "execution_count": 3,
     "metadata": {},
     "output_type": "execute_result"
    }
   ],
   "source": [
    "data.head(10)"
   ]
  },
  {
   "cell_type": "code",
   "execution_count": 4,
   "id": "d5249a38",
   "metadata": {},
   "outputs": [
    {
     "data": {
      "text/plain": [
       "Text     1589\n",
       "Label       0\n",
       "dtype: int64"
      ]
     },
     "execution_count": 4,
     "metadata": {},
     "output_type": "execute_result"
    }
   ],
   "source": [
    "data.isnull().sum()"
   ]
  },
  {
   "cell_type": "code",
   "execution_count": 5,
   "id": "cbda111a",
   "metadata": {},
   "outputs": [],
   "source": [
    "data.dropna(axis=0,inplace=True)"
   ]
  },
  {
   "cell_type": "code",
   "execution_count": 6,
   "id": "4720fe79",
   "metadata": {},
   "outputs": [],
   "source": [
    "import pandas as pd\n",
    "\n",
    "target_sample = {\n",
    "    'Manoranjan': 1500,\n",
    "    'Politics': 1300,\n",
    "    'Auto': 1300,\n",
    "    'Tech': 1300,\n",
    "    'International': 1300\n",
    "}\n",
    "\n",
    "\n",
    "df_sampled = pd.DataFrame()\n",
    "for label, count in target_sample.items():\n",
    "    df_label = data[data['Label'] == label].sample(n=count, random_state=42)\n",
    "    df_sampled = pd.concat([df_sampled, df_label], axis=0)\n",
    "\n",
    "df_sampled = df_sampled.sample(frac=1).reset_index(drop=True) "
   ]
  },
  {
   "cell_type": "code",
   "execution_count": 7,
   "id": "841cd420",
   "metadata": {},
   "outputs": [
    {
     "data": {
      "text/html": [
       "<div>\n",
       "<style scoped>\n",
       "    .dataframe tbody tr th:only-of-type {\n",
       "        vertical-align: middle;\n",
       "    }\n",
       "\n",
       "    .dataframe tbody tr th {\n",
       "        vertical-align: top;\n",
       "    }\n",
       "\n",
       "    .dataframe thead th {\n",
       "        text-align: right;\n",
       "    }\n",
       "</style>\n",
       "<table border=\"1\" class=\"dataframe\">\n",
       "  <thead>\n",
       "    <tr style=\"text-align: right;\">\n",
       "      <th></th>\n",
       "      <th>Text</th>\n",
       "      <th>Label</th>\n",
       "    </tr>\n",
       "  </thead>\n",
       "  <tbody>\n",
       "    <tr>\n",
       "      <th>0</th>\n",
       "      <td>समाजवादी पार्टीचे नेते आणि मानखुर्दचे आमदार अब...</td>\n",
       "      <td>Politics</td>\n",
       "    </tr>\n",
       "    <tr>\n",
       "      <th>1</th>\n",
       "      <td>चंद्रपूर - साप, नाग यासंह सरपटणारे प्राणी शेता...</td>\n",
       "      <td>Manoranjan</td>\n",
       "    </tr>\n",
       "    <tr>\n",
       "      <th>2</th>\n",
       "      <td>नवी दिल्ली : महिंद्राने देशात नवीन स्कॉर्पिओ ए...</td>\n",
       "      <td>Auto</td>\n",
       "    </tr>\n",
       "    <tr>\n",
       "      <th>3</th>\n",
       "      <td>मुंबई - पत्राचाळ घोटाळ्याप्रकरणी ईडीनं रविवारी...</td>\n",
       "      <td>Politics</td>\n",
       "    </tr>\n",
       "    <tr>\n",
       "      <th>4</th>\n",
       "      <td>भारतात इलेक्ट्रिक वाहनांची क्रेझ वाढताना दिसून...</td>\n",
       "      <td>Auto</td>\n",
       "    </tr>\n",
       "    <tr>\n",
       "      <th>...</th>\n",
       "      <td>...</td>\n",
       "      <td>...</td>\n",
       "    </tr>\n",
       "    <tr>\n",
       "      <th>6695</th>\n",
       "      <td>उद्धव ठाकरेंच्या शिवसेनेची आज बुलढाण्यात सभा स...</td>\n",
       "      <td>Manoranjan</td>\n",
       "    </tr>\n",
       "    <tr>\n",
       "      <th>6696</th>\n",
       "      <td>मुंबई- महाराष्ट्र-कर्नाटकाचा सीमावाद उफाळून या...</td>\n",
       "      <td>Manoranjan</td>\n",
       "    </tr>\n",
       "    <tr>\n",
       "      <th>6697</th>\n",
       "      <td>वेगवेगळ्या देशातील विमानांमध्ये घडणाऱ्या विचित...</td>\n",
       "      <td>International</td>\n",
       "    </tr>\n",
       "    <tr>\n",
       "      <th>6698</th>\n",
       "      <td>सध्या, पेट्रोलच्या वाढत्या किंमतीमुळे जवळजवळ प...</td>\n",
       "      <td>Auto</td>\n",
       "    </tr>\n",
       "    <tr>\n",
       "      <th>6699</th>\n",
       "      <td>Google I/O 2022 इव्हेंट काल अर्थात 11 मेपासून ...</td>\n",
       "      <td>Tech</td>\n",
       "    </tr>\n",
       "  </tbody>\n",
       "</table>\n",
       "<p>6700 rows × 2 columns</p>\n",
       "</div>"
      ],
      "text/plain": [
       "                                                   Text          Label\n",
       "0     समाजवादी पार्टीचे नेते आणि मानखुर्दचे आमदार अब...       Politics\n",
       "1     चंद्रपूर - साप, नाग यासंह सरपटणारे प्राणी शेता...     Manoranjan\n",
       "2     नवी दिल्ली : महिंद्राने देशात नवीन स्कॉर्पिओ ए...           Auto\n",
       "3     मुंबई - पत्राचाळ घोटाळ्याप्रकरणी ईडीनं रविवारी...       Politics\n",
       "4     भारतात इलेक्ट्रिक वाहनांची क्रेझ वाढताना दिसून...           Auto\n",
       "...                                                 ...            ...\n",
       "6695  उद्धव ठाकरेंच्या शिवसेनेची आज बुलढाण्यात सभा स...     Manoranjan\n",
       "6696  मुंबई- महाराष्ट्र-कर्नाटकाचा सीमावाद उफाळून या...     Manoranjan\n",
       "6697  वेगवेगळ्या देशातील विमानांमध्ये घडणाऱ्या विचित...  International\n",
       "6698  सध्या, पेट्रोलच्या वाढत्या किंमतीमुळे जवळजवळ प...           Auto\n",
       "6699  Google I/O 2022 इव्हेंट काल अर्थात 11 मेपासून ...           Tech\n",
       "\n",
       "[6700 rows x 2 columns]"
      ]
     },
     "execution_count": 7,
     "metadata": {},
     "output_type": "execute_result"
    }
   ],
   "source": [
    "df_sampled"
   ]
  },
  {
   "cell_type": "code",
   "execution_count": 141,
   "id": "8b13aabc",
   "metadata": {},
   "outputs": [],
   "source": [
    "marathi_stopwords = [\n",
    "    'आहे', 'होते', 'होणार', 'होतो', 'होतेस', 'होतात', 'होता', 'होऊन', 'असतो', 'आहेत',\n",
    "    'असतील', 'आलो', 'जाईल', 'गेला', 'गेले', 'गेलेला', 'असेल', 'असा', 'अशी', 'असल्याचे',\n",
    "    'येत', 'येतो', 'येतील', 'येते', 'येऊन', 'गेल्या', 'सर्व', 'तसेच', 'आणि', 'म्हणून',\n",
    "    'किंवा', 'मात्र', 'परंतु', 'पण', 'दाखवले', 'केले', 'केला', 'दिले', 'दिला', 'दिल्या',\n",
    "    'घेतले', 'घेतला', 'झाले', 'झाला', 'झाली', 'झाल्या', 'केल्यावर', 'विकत', 'त्यानंतर',\n",
    "    'त्यामुळे', 'त्यांना', 'त्याने', 'त्याचा', 'तिचा', 'तिच्या', 'त्याच्या', 'त्यातील',\n",
    "    'त्यावेळी', 'त्याप्रमाणे', 'त्याच', 'त्याचे', 'कधी', 'काय', 'कोण', 'कोणता', 'कोणते',\n",
    "    'कोणती', 'का', 'नाही', 'होय', 'नंतर', 'पूर्वी', 'अगोदर', 'मध्ये', 'वर', 'खाली', 'समोर',\n",
    "    'पाठोपाठ', 'सामोर', 'तसे', 'या', 'ही', 'तो', 'ती', 'ते', 'हे', 'याच्या', 'यांची',\n",
    "    'यांचे', 'यांना', 'यांनी', 'यास', 'कडून', 'कडे', 'सारखे', 'सर्वच', 'अनेक', 'थोडे',\n",
    "    'थोडा', 'थोडी', 'थोडेसे', 'यामध्ये', 'यासाठी', 'याप्रमाणे', 'यांनी', 'आपण', 'आपला',\n",
    "    'आपली', 'आपले', 'स्वतः', 'स्वत:चा', 'स्वत:ची', 'स्वत:चे', 'एक', 'दोन', 'तीन', 'चार',\n",
    "    'पाच', 'सहा', 'सात', 'आठ', 'नऊ', 'दहा', 'अलीकडे', 'तरी', 'म्हणजे', 'व', 'की', 'तर',\n",
    "    'जर', 'जरी', 'जेव्हा', 'तेव्हा', 'मध्ये', 'आहेत', 'असतात', 'असताना', 'असे', 'आधी',\n",
    "    'म्हणाले', 'म्हणाली', 'म्हणाले', 'म्हणते', 'सांगितले', 'सांगितला', 'सांगितल्या',\n",
    "    'कसे', 'कधीही', 'कुठे', 'कोणतेही', 'कोणत्याही', 'दाखवले', 'बघितले', 'आणले',\n",
    "    'मागे', 'संपूर्ण', 'विशेष', 'फक्त', 'प्रमाणे', 'त्यात', 'पुन्हा', 'दाखवणारे',\n",
    "    'असणारे', 'नसलेले', 'नसते', 'नसल्याचे', 'नसताना', 'सध्या', 'मात्र', 'अजून', 'आता',\n",
    "    'सर्वांना', 'सर्वांच्या', 'सर्वांनी', 'यावर', 'या ठिकाणी', 'कोणालाही', 'त्याच्याशी','केली','करण्यात','करत','सुरू','असून','काही',\n",
    "    'काही','आली','आले','त्यांनी','केली','यांच्या','असं','करण्यात','आला','देखील','सादर','तुम्ही','तुम्हाला','काही','इथे','असं','आपल्या',\n",
    "    'ठिकाण','ठिकाणी','करून', 'अशा', 'एका', 'करू', 'जात', 'तुमच्या', 'सर्वात', 'देण्यात','करून', 'अशा', 'एका', \n",
    "    'करू', 'जात', 'तुमच्या', 'सर्वात', 'देण्यात','आहेया','कमी', 'जास्त', 'होत', 'त्या', 'आहेया', 'येथे','त्याला','गोखले','राऊत',\n",
    "    'माहिती','अधिक','म्हटले','त्यांच्या','करण्यासाठी','असलेल्या','वापर','रुपये','रुपयांच्या','प्लॅनमध्ये','टक्के','वाढताना','आम्ही','माझ्या','प्रयत्न',\n",
    "    'जारी','तयार','अर्थात','सुरु','केलं','उपलब्ध','होऊ','नवीन','लाख','हजार','पैसे','नवी','वाढ','दिलेल्या','दिसत','कंपनीने','ठाकरेंनी','पुढे'\n",
    "]"
   ]
  },
  {
   "cell_type": "code",
   "execution_count": 142,
   "id": "70a633b5",
   "metadata": {},
   "outputs": [],
   "source": [
    "import re\n",
    "def preprocess_text(text):\n",
    "    text = re.sub(r'[^\\u0900-\\u097F\\s]', '', text)  # Keep only Marathi characters\n",
    "    text = text.lower()\n",
    "    words = text.split()\n",
    "    filtered_words = [word for word in words if word not in marathi_stopwords and len(word) > 2]\n",
    "    return filtered_words"
   ]
  },
  {
   "cell_type": "code",
   "execution_count": 143,
   "id": "78e31571",
   "metadata": {},
   "outputs": [],
   "source": [
    "processed_docs = df_sampled['Text'].apply(preprocess_text)"
   ]
  },
  {
   "cell_type": "code",
   "execution_count": 144,
   "id": "f4e243a4",
   "metadata": {},
   "outputs": [
    {
     "data": {
      "text/plain": [
       "0       [समाजवादी, पार्टीचे, नेते, मानखुर्दचे, आमदार, ...\n",
       "1       [चंद्रपूर, साप, नाग, यासंह, सरपटणारे, प्राणी, ...\n",
       "2       [दिल्ली, महिंद्राने, देशात, स्कॉर्पिओ, एनसोबत,...\n",
       "3       [मुंबई, पत्राचाळ, घोटाळ्याप्रकरणी, ईडीनं, रविव...\n",
       "4       [भारतात, इलेक्ट्रिक, वाहनांची, क्रेझ, दिसून, आ...\n",
       "                              ...                        \n",
       "6695    [उद्धव, ठाकरेंच्या, शिवसेनेची, बुलढाण्यात, सभा...\n",
       "6696    [मुंबई, महाराष्ट्रकर्नाटकाचा, सीमावाद, उफाळून,...\n",
       "6697    [वेगवेगळ्या, देशातील, विमानांमध्ये, घडणाऱ्या, ...\n",
       "6698    [पेट्रोलच्या, वाढत्या, किंमतीमुळे, जवळजवळ, प्र...\n",
       "6699    [इव्हेंट, काल, मेपासून, इव्हेंटमधून, अपेक्षेप्...\n",
       "Name: Text, Length: 6700, dtype: object"
      ]
     },
     "execution_count": 144,
     "metadata": {},
     "output_type": "execute_result"
    }
   ],
   "source": [
    "processed_docs"
   ]
  },
  {
   "cell_type": "code",
   "execution_count": 145,
   "id": "a59b6bc6",
   "metadata": {},
   "outputs": [],
   "source": [
    "import gensim\n",
    "from gensim import corpora\n",
    "from gensim.models.ldamodel import LdaModel\n",
    "import pickle\n",
    "# Create a dictionary and corpus\n",
    "dictionary = corpora.Dictionary(processed_docs)\n",
    "corpus = [dictionary.doc2bow(doc) for doc in processed_docs]"
   ]
  },
  {
   "cell_type": "code",
   "execution_count": 146,
   "id": "24075f6f",
   "metadata": {},
   "outputs": [],
   "source": [
    "lda_model = LdaModel(corpus=corpus,\n",
    "                     id2word=dictionary,\n",
    "                     num_topics=5,  # Change as per need\n",
    "                     random_state=42,\n",
    "                     passes=5)"
   ]
  },
  {
   "cell_type": "code",
   "execution_count": 147,
   "id": "e10044ac",
   "metadata": {},
   "outputs": [
    {
     "name": "stdout",
     "output_type": "stream",
     "text": [
      "(0, '0.009*\"फोन\" + 0.007*\"कॅमेरा\" + 0.005*\"स्मार्टफोन\" + 0.005*\"सेन्सर\" + 0.005*\"डिस्प्ले\" + 0.005*\"सपोर्ट\" + 0.004*\"बॅटरी\" + 0.004*\"आहेहा\" + 0.004*\"स्टोरेज\" + 0.004*\"मेगापिक्सलचा\"')\n",
      "(1, '0.007*\"कार\" + 0.004*\"डेटा\" + 0.004*\"कंपनी\" + 0.004*\"किंमत\" + 0.004*\"इलेक्ट्रिक\" + 0.003*\"लाँच\" + 0.003*\"इंजिन\" + 0.003*\"काम\" + 0.003*\"दिल्ली\" + 0.003*\"स्कूटर\"')\n",
      "(2, '0.004*\"हिंदी\" + 0.003*\"राज\" + 0.003*\"भाषा\" + 0.003*\"बाबा\" + 0.003*\"मृत्यू\" + 0.003*\"मराठी\" + 0.003*\"रामदेव\" + 0.003*\"बालकृष्ण\" + 0.003*\"कोरोना\" + 0.002*\"दाखल\"')\n",
      "(3, '0.002*\"वाहन\" + 0.002*\"रशियन\" + 0.002*\"कार\" + 0.002*\"मते\" + 0.002*\"रशिया\" + 0.002*\"लोक\" + 0.002*\"भारतीय\" + 0.002*\"तिला\" + 0.002*\"मुख्यमंत्री\" + 0.002*\"दिली\"')\n",
      "(4, '0.009*\"ठाकरे\" + 0.008*\"शिंदे\" + 0.006*\"उद्धव\" + 0.004*\"शिवसेना\" + 0.004*\"मुख्यमंत्री\" + 0.004*\"सरकार\" + 0.004*\"एकनाथ\" + 0.003*\"निवडणूक\" + 0.003*\"नेते\" + 0.003*\"फडणवीस\"')\n"
     ]
    }
   ],
   "source": [
    "# Print topics\n",
    "topics = lda_model.print_topics()\n",
    "for topic in topics:\n",
    "    print(topic)"
   ]
  },
  {
   "cell_type": "code",
   "execution_count": 148,
   "id": "c0d7cd61",
   "metadata": {},
   "outputs": [],
   "source": [
    "lda_model.save(\"marathi_lda_model.gensim\")\n",
    "dictionary.save(\"marathi_dictionary.gensim\")"
   ]
  },
  {
   "cell_type": "code",
   "execution_count": 149,
   "id": "ee8e976c",
   "metadata": {},
   "outputs": [],
   "source": [
    "loaded_lda = LdaModel.load(\"marathi_lda_model.gensim\")\n",
    "loaded_dict = corpora.Dictionary.load(\"marathi_dictionary.gensim\")"
   ]
  },
  {
   "cell_type": "code",
   "execution_count": 150,
   "id": "06266ba5",
   "metadata": {},
   "outputs": [
    {
     "name": "stdout",
     "output_type": "stream",
     "text": [
      "\n",
      "📌 Topic distribution for new text:\n",
      "[(0, 0.024046035), (1, 0.25255197), (2, 0.022340707), (3, 0.022638435), (4, 0.67842287)]\n"
     ]
    }
   ],
   "source": [
    "# ✅ Example New Data Inference\n",
    "new_text = \"मुख्यमंत्री शिंदे यांनी पुण्यातील मेट्रो प्रकल्पासाठी नवीन इलेक्ट्रिक बसेस सुरू केल्या.\"\n",
    "new_doc = preprocess_text(new_text)\n",
    "new_corpus = loaded_dict.doc2bow(new_doc)\n",
    "# ✅ Predict Topic for New Data\n",
    "topics = loaded_lda.get_document_topics(new_corpus, minimum_probability=0.0)\n",
    "print(\"\\n📌 Topic distribution for new text:\")\n",
    "print(topics)"
   ]
  },
  {
   "cell_type": "code",
   "execution_count": 151,
   "id": "69315b71",
   "metadata": {},
   "outputs": [],
   "source": [
    "lda_to_topic = {\n",
    "    0: 'Tech',\n",
    "    1: 'Auto',\n",
    "    2: 'Manoranjan',\n",
    "    3: 'International',\n",
    "    4: 'Politics'\n",
    "}"
   ]
  }
 ],
 "metadata": {
  "kernelspec": {
   "display_name": "Python 3 (ipykernel)",
   "language": "python",
   "name": "python3"
  },
  "language_info": {
   "codemirror_mode": {
    "name": "ipython",
    "version": 3
   },
   "file_extension": ".py",
   "mimetype": "text/x-python",
   "name": "python",
   "nbconvert_exporter": "python",
   "pygments_lexer": "ipython3",
   "version": "3.11.3"
  }
 },
 "nbformat": 4,
 "nbformat_minor": 5
}
